{
 "cells": [
  {
   "cell_type": "code",
   "execution_count": 1,
   "id": "72e50b59",
   "metadata": {
    "execution": {
     "iopub.execute_input": "2024-03-09T18:01:00.409661Z",
     "iopub.status.busy": "2024-03-09T18:01:00.409323Z",
     "iopub.status.idle": "2024-03-09T18:01:01.473417Z",
     "shell.execute_reply": "2024-03-09T18:01:01.472190Z"
    },
    "papermill": {
     "duration": 1.07264,
     "end_time": "2024-03-09T18:01:01.475986",
     "exception": false,
     "start_time": "2024-03-09T18:01:00.403346",
     "status": "completed"
    },
    "tags": []
   },
   "outputs": [],
   "source": [
    "import numpy as np\n",
    "import pandas as pd\n",
    "from matplotlib import pyplot as plt"
   ]
  },
  {
   "cell_type": "markdown",
   "id": "3633aedd",
   "metadata": {
    "papermill": {
     "duration": 0.003491,
     "end_time": "2024-03-09T18:01:01.484115",
     "exception": false,
     "start_time": "2024-03-09T18:01:01.480624",
     "status": "completed"
    },
    "tags": []
   },
   "source": [
    "Reading the MNIST Dataset into a csv file using pandas"
   ]
  },
  {
   "cell_type": "code",
   "execution_count": 2,
   "id": "4317ba56",
   "metadata": {
    "execution": {
     "iopub.execute_input": "2024-03-09T18:01:01.493426Z",
     "iopub.status.busy": "2024-03-09T18:01:01.492818Z",
     "iopub.status.idle": "2024-03-09T18:01:04.413085Z",
     "shell.execute_reply": "2024-03-09T18:01:04.411310Z"
    },
    "papermill": {
     "duration": 2.927982,
     "end_time": "2024-03-09T18:01:04.415686",
     "exception": false,
     "start_time": "2024-03-09T18:01:01.487704",
     "status": "completed"
    },
    "tags": []
   },
   "outputs": [],
   "source": [
    "data = pd.read_csv('/Users/hitengoel/Machine Learning/MNIST from scratch/train.csv')"
   ]
  },
  {
   "cell_type": "code",
   "execution_count": 3,
   "id": "410594be",
   "metadata": {
    "execution": {
     "iopub.execute_input": "2024-03-09T18:01:04.425453Z",
     "iopub.status.busy": "2024-03-09T18:01:04.425068Z",
     "iopub.status.idle": "2024-03-09T18:01:04.455934Z",
     "shell.execute_reply": "2024-03-09T18:01:04.454964Z"
    },
    "papermill": {
     "duration": 0.038152,
     "end_time": "2024-03-09T18:01:04.458019",
     "exception": false,
     "start_time": "2024-03-09T18:01:04.419867",
     "status": "completed"
    },
    "tags": []
   },
   "outputs": [
    {
     "data": {
      "text/html": [
       "<div>\n",
       "<style scoped>\n",
       "    .dataframe tbody tr th:only-of-type {\n",
       "        vertical-align: middle;\n",
       "    }\n",
       "\n",
       "    .dataframe tbody tr th {\n",
       "        vertical-align: top;\n",
       "    }\n",
       "\n",
       "    .dataframe thead th {\n",
       "        text-align: right;\n",
       "    }\n",
       "</style>\n",
       "<table border=\"1\" class=\"dataframe\">\n",
       "  <thead>\n",
       "    <tr style=\"text-align: right;\">\n",
       "      <th></th>\n",
       "      <th>label</th>\n",
       "      <th>pixel0</th>\n",
       "      <th>pixel1</th>\n",
       "      <th>pixel2</th>\n",
       "      <th>pixel3</th>\n",
       "      <th>pixel4</th>\n",
       "      <th>pixel5</th>\n",
       "      <th>pixel6</th>\n",
       "      <th>pixel7</th>\n",
       "      <th>pixel8</th>\n",
       "      <th>...</th>\n",
       "      <th>pixel774</th>\n",
       "      <th>pixel775</th>\n",
       "      <th>pixel776</th>\n",
       "      <th>pixel777</th>\n",
       "      <th>pixel778</th>\n",
       "      <th>pixel779</th>\n",
       "      <th>pixel780</th>\n",
       "      <th>pixel781</th>\n",
       "      <th>pixel782</th>\n",
       "      <th>pixel783</th>\n",
       "    </tr>\n",
       "  </thead>\n",
       "  <tbody>\n",
       "    <tr>\n",
       "      <th>0</th>\n",
       "      <td>1</td>\n",
       "      <td>0</td>\n",
       "      <td>0</td>\n",
       "      <td>0</td>\n",
       "      <td>0</td>\n",
       "      <td>0</td>\n",
       "      <td>0</td>\n",
       "      <td>0</td>\n",
       "      <td>0</td>\n",
       "      <td>0</td>\n",
       "      <td>...</td>\n",
       "      <td>0</td>\n",
       "      <td>0</td>\n",
       "      <td>0</td>\n",
       "      <td>0</td>\n",
       "      <td>0</td>\n",
       "      <td>0</td>\n",
       "      <td>0</td>\n",
       "      <td>0</td>\n",
       "      <td>0</td>\n",
       "      <td>0</td>\n",
       "    </tr>\n",
       "    <tr>\n",
       "      <th>1</th>\n",
       "      <td>0</td>\n",
       "      <td>0</td>\n",
       "      <td>0</td>\n",
       "      <td>0</td>\n",
       "      <td>0</td>\n",
       "      <td>0</td>\n",
       "      <td>0</td>\n",
       "      <td>0</td>\n",
       "      <td>0</td>\n",
       "      <td>0</td>\n",
       "      <td>...</td>\n",
       "      <td>0</td>\n",
       "      <td>0</td>\n",
       "      <td>0</td>\n",
       "      <td>0</td>\n",
       "      <td>0</td>\n",
       "      <td>0</td>\n",
       "      <td>0</td>\n",
       "      <td>0</td>\n",
       "      <td>0</td>\n",
       "      <td>0</td>\n",
       "    </tr>\n",
       "    <tr>\n",
       "      <th>2</th>\n",
       "      <td>1</td>\n",
       "      <td>0</td>\n",
       "      <td>0</td>\n",
       "      <td>0</td>\n",
       "      <td>0</td>\n",
       "      <td>0</td>\n",
       "      <td>0</td>\n",
       "      <td>0</td>\n",
       "      <td>0</td>\n",
       "      <td>0</td>\n",
       "      <td>...</td>\n",
       "      <td>0</td>\n",
       "      <td>0</td>\n",
       "      <td>0</td>\n",
       "      <td>0</td>\n",
       "      <td>0</td>\n",
       "      <td>0</td>\n",
       "      <td>0</td>\n",
       "      <td>0</td>\n",
       "      <td>0</td>\n",
       "      <td>0</td>\n",
       "    </tr>\n",
       "    <tr>\n",
       "      <th>3</th>\n",
       "      <td>4</td>\n",
       "      <td>0</td>\n",
       "      <td>0</td>\n",
       "      <td>0</td>\n",
       "      <td>0</td>\n",
       "      <td>0</td>\n",
       "      <td>0</td>\n",
       "      <td>0</td>\n",
       "      <td>0</td>\n",
       "      <td>0</td>\n",
       "      <td>...</td>\n",
       "      <td>0</td>\n",
       "      <td>0</td>\n",
       "      <td>0</td>\n",
       "      <td>0</td>\n",
       "      <td>0</td>\n",
       "      <td>0</td>\n",
       "      <td>0</td>\n",
       "      <td>0</td>\n",
       "      <td>0</td>\n",
       "      <td>0</td>\n",
       "    </tr>\n",
       "    <tr>\n",
       "      <th>4</th>\n",
       "      <td>0</td>\n",
       "      <td>0</td>\n",
       "      <td>0</td>\n",
       "      <td>0</td>\n",
       "      <td>0</td>\n",
       "      <td>0</td>\n",
       "      <td>0</td>\n",
       "      <td>0</td>\n",
       "      <td>0</td>\n",
       "      <td>0</td>\n",
       "      <td>...</td>\n",
       "      <td>0</td>\n",
       "      <td>0</td>\n",
       "      <td>0</td>\n",
       "      <td>0</td>\n",
       "      <td>0</td>\n",
       "      <td>0</td>\n",
       "      <td>0</td>\n",
       "      <td>0</td>\n",
       "      <td>0</td>\n",
       "      <td>0</td>\n",
       "    </tr>\n",
       "  </tbody>\n",
       "</table>\n",
       "<p>5 rows × 785 columns</p>\n",
       "</div>"
      ],
      "text/plain": [
       "   label  pixel0  pixel1  pixel2  pixel3  pixel4  pixel5  pixel6  pixel7  \\\n",
       "0      1       0       0       0       0       0       0       0       0   \n",
       "1      0       0       0       0       0       0       0       0       0   \n",
       "2      1       0       0       0       0       0       0       0       0   \n",
       "3      4       0       0       0       0       0       0       0       0   \n",
       "4      0       0       0       0       0       0       0       0       0   \n",
       "\n",
       "   pixel8  ...  pixel774  pixel775  pixel776  pixel777  pixel778  pixel779  \\\n",
       "0       0  ...         0         0         0         0         0         0   \n",
       "1       0  ...         0         0         0         0         0         0   \n",
       "2       0  ...         0         0         0         0         0         0   \n",
       "3       0  ...         0         0         0         0         0         0   \n",
       "4       0  ...         0         0         0         0         0         0   \n",
       "\n",
       "   pixel780  pixel781  pixel782  pixel783  \n",
       "0         0         0         0         0  \n",
       "1         0         0         0         0  \n",
       "2         0         0         0         0  \n",
       "3         0         0         0         0  \n",
       "4         0         0         0         0  \n",
       "\n",
       "[5 rows x 785 columns]"
      ]
     },
     "execution_count": 3,
     "metadata": {},
     "output_type": "execute_result"
    }
   ],
   "source": [
    "data.head()"
   ]
  },
  {
   "cell_type": "markdown",
   "id": "a20d5b08",
   "metadata": {
    "papermill": {
     "duration": 0.003646,
     "end_time": "2024-03-09T18:01:04.465848",
     "exception": false,
     "start_time": "2024-03-09T18:01:04.462202",
     "status": "completed"
    },
    "tags": []
   },
   "source": [
    "Splitting the dataset into testing and training sets"
   ]
  },
  {
   "cell_type": "code",
   "execution_count": 4,
   "id": "161bb8d1",
   "metadata": {
    "execution": {
     "iopub.execute_input": "2024-03-09T18:01:04.475608Z",
     "iopub.status.busy": "2024-03-09T18:01:04.475228Z",
     "iopub.status.idle": "2024-03-09T18:01:05.022599Z",
     "shell.execute_reply": "2024-03-09T18:01:05.021179Z"
    },
    "papermill": {
     "duration": 0.555255,
     "end_time": "2024-03-09T18:01:05.025195",
     "exception": false,
     "start_time": "2024-03-09T18:01:04.469940",
     "status": "completed"
    },
    "tags": []
   },
   "outputs": [],
   "source": [
    "data = np.array(data)\n",
    "m, n = data.shape\n",
    "np.random.shuffle(data) #shuffling the data before splitting\n",
    "\n",
    "data_dev = data[0:1000].T\n",
    "Y_dev = data_dev[0]\n",
    "X_dev = data_dev[1:n]\n",
    "X_dev = X_dev / 255.\n",
    "\n",
    "data_train = data[1000:m].T\n",
    "Y_train = data_train[0]\n",
    "X_train = data_train[1:n]\n",
    "X_train = X_train / 255.\n",
    "_,m_train = X_train.shape"
   ]
  },
  {
   "cell_type": "markdown",
   "id": "50a48cee",
   "metadata": {
    "papermill": {
     "duration": 0.003585,
     "end_time": "2024-03-09T18:01:05.032864",
     "exception": false,
     "start_time": "2024-03-09T18:01:05.029279",
     "status": "completed"
    },
    "tags": []
   },
   "source": [
    "Initializing parameters for the nodes , defining activation functions , functios for forward and backward propogation"
   ]
  },
  {
   "cell_type": "code",
   "execution_count": 5,
   "id": "bed71ebb",
   "metadata": {
    "execution": {
     "iopub.execute_input": "2024-03-09T18:01:05.044284Z",
     "iopub.status.busy": "2024-03-09T18:01:05.043876Z",
     "iopub.status.idle": "2024-03-09T18:01:05.054705Z",
     "shell.execute_reply": "2024-03-09T18:01:05.053602Z"
    },
    "papermill": {
     "duration": 0.019133,
     "end_time": "2024-03-09T18:01:05.056598",
     "exception": false,
     "start_time": "2024-03-09T18:01:05.037465",
     "status": "completed"
    },
    "tags": []
   },
   "outputs": [],
   "source": [
    "def init_params():\n",
    "    W1 = np.random.rand(20,784) - 0.5\n",
    "    b1 = np.random.rand(20,1) - 0.5\n",
    "    W2 = np.random.rand(10,20) - 0.5\n",
    "    b2 = np.random.rand(10,1) - 0.5\n",
    "    return W1,b1,W2,b2\n",
    "#0th layer- inout layer\n",
    "#1st layer of 20 nodes\n",
    "#2nd output layer of 10 nodes\n",
    "\n",
    "def ReLU(Z):\n",
    "    return np.maximum(0,Z) #ReLu activation function , returns the number for +ve values,returns 0 for -ve values\n",
    "def softmax(Z):\n",
    "    A = np.exp(Z) / sum(np.exp(Z)) #softmax activation function , gives values between 0 and 1\n",
    "    return A\n",
    "def ReLU_deriv(Z): # derivative of ReLU function , 1 for +ve values , 0 for -ve values\n",
    "    return Z > 0 \n",
    "\n",
    "\n",
    "def forward_prop(W1,b1,W2,b2,X):\n",
    "    Z1 = W1.dot(X) + b1\n",
    "    A1 = ReLU(Z1)  # Using ReLU activation for the 1st layer\n",
    "    Z2 = W2.dot(A1) + b2\n",
    "    A2 = softmax(Z2) #Using Softmax activation for the 2nd layer\n",
    "    return Z1,A1,Z2,A2\n",
    "\n",
    "def one_hot(Y):  #one hot encoding the actual answer Y so that we can convert it into usable format to use in backpropagation \n",
    "    one_hot_Y = np.zeros((Y.size, Y.max() + 1))\n",
    "    one_hot_Y[np.arange(Y.size), Y] = 1\n",
    "    one_hot_Y = one_hot_Y.T\n",
    "    return one_hot_Y\n",
    "\n",
    "def backward_prop(Z1, A1, Z2, A2, W1, W2, X, Y):\n",
    "    one_hot_Y = one_hot(Y)\n",
    "    dZ2 = A2 - one_hot_Y #error in the output of the second layer\n",
    "    dW2 = 1 / m * dZ2.dot(A1.T)\n",
    "    db2 = 1 / m * np.sum(dZ2)\n",
    "    dZ1 = W2.T.dot(dZ2) * ReLU_deriv(Z1) #error in the output of the first layer, also needed to reverse the ReLU function to find this out\n",
    "    dW1 = 1 / m * dZ1.dot(X.T)\n",
    "    db1 = 1 / m * np.sum(dZ1)\n",
    "    return dW1, db1, dW2, db2\n",
    "\n",
    "def update_params(W1, b1, W2, b2, dW1, db1, dW2, db2, alpha): #funtion to update the parameters based on a learning rate alpha\n",
    "    W1 = W1 - alpha * dW1\n",
    "    b1 = b1 - alpha * db1    \n",
    "    W2 = W2 - alpha * dW2  \n",
    "    b2 = b2 - alpha * db2    \n",
    "    return W1, b1, W2, b2"
   ]
  },
  {
   "cell_type": "markdown",
   "id": "99167a54",
   "metadata": {
    "papermill": {
     "duration": 0.00374,
     "end_time": "2024-03-09T18:01:05.064668",
     "exception": false,
     "start_time": "2024-03-09T18:01:05.060928",
     "status": "completed"
    },
    "tags": []
   },
   "source": [
    "Running Gradient Descent"
   ]
  },
  {
   "cell_type": "code",
   "execution_count": 6,
   "id": "3806f487",
   "metadata": {
    "execution": {
     "iopub.execute_input": "2024-03-09T18:01:05.074380Z",
     "iopub.status.busy": "2024-03-09T18:01:05.074034Z",
     "iopub.status.idle": "2024-03-09T18:01:05.081977Z",
     "shell.execute_reply": "2024-03-09T18:01:05.080559Z"
    },
    "papermill": {
     "duration": 0.015915,
     "end_time": "2024-03-09T18:01:05.084751",
     "exception": false,
     "start_time": "2024-03-09T18:01:05.068836",
     "status": "completed"
    },
    "tags": []
   },
   "outputs": [],
   "source": [
    "def get_predictions(A2):\n",
    "    return np.argmax(A2, 0) #the softmax fucntion output at the second layer gives us the probability of each individual outcome.\n",
    "    #this function gives the outcome with maximum probability as the prediction.\n",
    "    \n",
    "def get_accuracy(predictions, Y): #function to get the accuracy of our predictions.\n",
    "    print(predictions, Y)\n",
    "    return np.sum(predictions == Y) / Y.size\n",
    "\n",
    "def gradient_descent(X, Y, alpha, iterations): \n",
    "    W1, b1, W2, b2 = init_params()\n",
    "    for i in range(iterations):\n",
    "        Z1, A1, Z2, A2 = forward_prop(W1, b1, W2, b2, X)\n",
    "        dW1, db1, dW2, db2 = backward_prop(Z1, A1, Z2, A2, W1, W2, X, Y)\n",
    "        W1, b1, W2, b2 = update_params(W1, b1, W2, b2, dW1, db1, dW2, db2, alpha)\n",
    "        if i % 10 == 0:   #printing the accuracy every 10 iterations \n",
    "            print(\"Iteration: \", i)\n",
    "            predictions = get_predictions(A2)\n",
    "            print(\"Acciuracy :\", get_accuracy(predictions, Y))\n",
    "    return W1, b1, W2, b2"
   ]
  },
  {
   "cell_type": "code",
   "execution_count": 7,
   "id": "40d049af",
   "metadata": {
    "execution": {
     "iopub.execute_input": "2024-03-09T18:01:05.094675Z",
     "iopub.status.busy": "2024-03-09T18:01:05.094336Z",
     "iopub.status.idle": "2024-03-09T18:02:00.417917Z",
     "shell.execute_reply": "2024-03-09T18:02:00.417174Z"
    },
    "papermill": {
     "duration": 55.331608,
     "end_time": "2024-03-09T18:02:00.420508",
     "exception": false,
     "start_time": "2024-03-09T18:01:05.088900",
     "status": "completed"
    },
    "tags": []
   },
   "outputs": [
    {
     "name": "stdout",
     "output_type": "stream",
     "text": [
      "Iteration:  0\n",
      "[9 1 5 ... 0 3 3] [7 9 1 ... 0 2 5]\n",
      "Acciuracy : 0.149\n",
      "Iteration:  10\n",
      "[9 1 7 ... 0 3 2] [7 9 1 ... 0 2 5]\n",
      "Acciuracy : 0.23629268292682926\n",
      "Iteration:  20\n",
      "[9 9 7 ... 0 3 6] [7 9 1 ... 0 2 5]\n",
      "Acciuracy : 0.35992682926829267\n",
      "Iteration:  30\n",
      "[9 9 7 ... 0 3 6] [7 9 1 ... 0 2 5]\n",
      "Acciuracy : 0.4543658536585366\n",
      "Iteration:  40\n",
      "[4 9 7 ... 0 2 6] [7 9 1 ... 0 2 5]\n",
      "Acciuracy : 0.5201463414634147\n",
      "Iteration:  50\n",
      "[4 9 7 ... 0 2 6] [7 9 1 ... 0 2 5]\n",
      "Acciuracy : 0.5709024390243902\n",
      "Iteration:  60\n",
      "[4 4 1 ... 0 2 8] [7 9 1 ... 0 2 5]\n",
      "Acciuracy : 0.6092439024390244\n",
      "Iteration:  70\n",
      "[7 4 1 ... 0 2 8] [7 9 1 ... 0 2 5]\n",
      "Acciuracy : 0.6403658536585366\n",
      "Iteration:  80\n",
      "[7 4 1 ... 0 2 8] [7 9 1 ... 0 2 5]\n",
      "Acciuracy : 0.6640975609756098\n",
      "Iteration:  90\n",
      "[7 4 1 ... 0 2 8] [7 9 1 ... 0 2 5]\n",
      "Acciuracy : 0.6844634146341464\n",
      "Iteration:  100\n",
      "[7 4 1 ... 0 2 8] [7 9 1 ... 0 2 5]\n",
      "Acciuracy : 0.7018536585365853\n",
      "Iteration:  110\n",
      "[7 4 1 ... 0 2 8] [7 9 1 ... 0 2 5]\n",
      "Acciuracy : 0.717390243902439\n",
      "Iteration:  120\n",
      "[7 4 1 ... 0 2 8] [7 9 1 ... 0 2 5]\n",
      "Acciuracy : 0.7306341463414634\n",
      "Iteration:  130\n",
      "[7 4 1 ... 0 2 8] [7 9 1 ... 0 2 5]\n",
      "Acciuracy : 0.7417560975609756\n",
      "Iteration:  140\n",
      "[7 4 1 ... 0 2 8] [7 9 1 ... 0 2 5]\n",
      "Acciuracy : 0.7512439024390244\n",
      "Iteration:  150\n",
      "[7 4 1 ... 0 2 8] [7 9 1 ... 0 2 5]\n",
      "Acciuracy : 0.7594390243902439\n",
      "Iteration:  160\n",
      "[7 4 1 ... 0 2 8] [7 9 1 ... 0 2 5]\n",
      "Acciuracy : 0.7680731707317073\n",
      "Iteration:  170\n",
      "[7 4 1 ... 0 2 8] [7 9 1 ... 0 2 5]\n",
      "Acciuracy : 0.7749024390243903\n",
      "Iteration:  180\n",
      "[7 4 1 ... 0 2 8] [7 9 1 ... 0 2 5]\n",
      "Acciuracy : 0.7813414634146342\n",
      "Iteration:  190\n",
      "[7 4 1 ... 0 2 8] [7 9 1 ... 0 2 5]\n",
      "Acciuracy : 0.7864634146341464\n",
      "Iteration:  200\n",
      "[7 4 1 ... 0 2 8] [7 9 1 ... 0 2 5]\n",
      "Acciuracy : 0.7926829268292683\n",
      "Iteration:  210\n",
      "[7 4 1 ... 0 2 8] [7 9 1 ... 0 2 5]\n",
      "Acciuracy : 0.7981463414634147\n",
      "Iteration:  220\n",
      "[7 4 1 ... 0 2 8] [7 9 1 ... 0 2 5]\n",
      "Acciuracy : 0.8032439024390244\n",
      "Iteration:  230\n",
      "[7 4 1 ... 0 2 8] [7 9 1 ... 0 2 5]\n",
      "Acciuracy : 0.8088048780487805\n",
      "Iteration:  240\n",
      "[7 4 1 ... 0 2 8] [7 9 1 ... 0 2 5]\n",
      "Acciuracy : 0.8132682926829268\n",
      "Iteration:  250\n",
      "[7 4 1 ... 0 2 8] [7 9 1 ... 0 2 5]\n",
      "Acciuracy : 0.8175853658536585\n",
      "Iteration:  260\n",
      "[7 4 1 ... 0 2 8] [7 9 1 ... 0 2 5]\n",
      "Acciuracy : 0.8209512195121951\n",
      "Iteration:  270\n",
      "[7 4 1 ... 0 2 8] [7 9 1 ... 0 2 5]\n",
      "Acciuracy : 0.8240243902439024\n",
      "Iteration:  280\n",
      "[7 4 1 ... 0 2 8] [7 9 1 ... 0 2 5]\n",
      "Acciuracy : 0.8270975609756097\n",
      "Iteration:  290\n",
      "[7 4 1 ... 0 2 8] [7 9 1 ... 0 2 5]\n",
      "Acciuracy : 0.831170731707317\n",
      "Iteration:  300\n",
      "[7 4 1 ... 0 2 8] [7 9 1 ... 0 2 5]\n",
      "Acciuracy : 0.8341463414634146\n",
      "Iteration:  310\n",
      "[7 4 1 ... 0 2 8] [7 9 1 ... 0 2 5]\n",
      "Acciuracy : 0.8366097560975609\n",
      "Iteration:  320\n",
      "[7 4 1 ... 0 2 8] [7 9 1 ... 0 2 5]\n",
      "Acciuracy : 0.839170731707317\n",
      "Iteration:  330\n",
      "[7 4 1 ... 0 2 8] [7 9 1 ... 0 2 5]\n",
      "Acciuracy : 0.8414390243902439\n",
      "Iteration:  340\n",
      "[7 4 1 ... 0 2 8] [7 9 1 ... 0 2 5]\n",
      "Acciuracy : 0.8438048780487805\n",
      "Iteration:  350\n",
      "[7 4 1 ... 0 2 8] [7 9 1 ... 0 2 5]\n",
      "Acciuracy : 0.8458292682926829\n",
      "Iteration:  360\n",
      "[7 4 1 ... 0 2 8] [7 9 1 ... 0 2 5]\n",
      "Acciuracy : 0.8478780487804878\n",
      "Iteration:  370\n",
      "[7 4 1 ... 0 2 8] [7 9 1 ... 0 2 5]\n",
      "Acciuracy : 0.8496585365853658\n",
      "Iteration:  380\n",
      "[7 4 1 ... 0 2 8] [7 9 1 ... 0 2 5]\n",
      "Acciuracy : 0.851170731707317\n",
      "Iteration:  390\n",
      "[7 4 1 ... 0 2 8] [7 9 1 ... 0 2 5]\n",
      "Acciuracy : 0.8531219512195122\n",
      "Iteration:  400\n",
      "[7 4 1 ... 0 2 8] [7 9 1 ... 0 2 5]\n",
      "Acciuracy : 0.8547317073170732\n",
      "Iteration:  410\n",
      "[7 4 1 ... 0 2 8] [7 9 1 ... 0 2 5]\n",
      "Acciuracy : 0.8560487804878049\n",
      "Iteration:  420\n",
      "[7 9 1 ... 0 2 8] [7 9 1 ... 0 2 5]\n",
      "Acciuracy : 0.8574146341463414\n",
      "Iteration:  430\n",
      "[7 9 1 ... 0 2 8] [7 9 1 ... 0 2 5]\n",
      "Acciuracy : 0.8590731707317073\n",
      "Iteration:  440\n",
      "[7 9 1 ... 0 2 8] [7 9 1 ... 0 2 5]\n",
      "Acciuracy : 0.8604390243902439\n",
      "Iteration:  450\n",
      "[7 9 1 ... 0 2 8] [7 9 1 ... 0 2 5]\n",
      "Acciuracy : 0.8615609756097561\n",
      "Iteration:  460\n",
      "[7 9 1 ... 0 2 8] [7 9 1 ... 0 2 5]\n",
      "Acciuracy : 0.8629268292682927\n",
      "Iteration:  470\n",
      "[7 9 1 ... 0 2 8] [7 9 1 ... 0 2 5]\n",
      "Acciuracy : 0.8638536585365854\n",
      "Iteration:  480\n",
      "[7 9 1 ... 0 2 8] [7 9 1 ... 0 2 5]\n",
      "Acciuracy : 0.8649756097560976\n",
      "Iteration:  490\n",
      "[7 9 1 ... 0 2 8] [7 9 1 ... 0 2 5]\n",
      "Acciuracy : 0.8661951219512195\n"
     ]
    }
   ],
   "source": [
    "W1, b1, W2, b2 = gradient_descent(X_train, Y_train, 0.10, 500)"
   ]
  },
  {
   "cell_type": "code",
   "execution_count": 8,
   "id": "d4f3f467",
   "metadata": {
    "execution": {
     "iopub.execute_input": "2024-03-09T18:02:00.439837Z",
     "iopub.status.busy": "2024-03-09T18:02:00.439335Z",
     "iopub.status.idle": "2024-03-09T18:02:00.446848Z",
     "shell.execute_reply": "2024-03-09T18:02:00.445834Z"
    },
    "papermill": {
     "duration": 0.020066,
     "end_time": "2024-03-09T18:02:00.449706",
     "exception": false,
     "start_time": "2024-03-09T18:02:00.429640",
     "status": "completed"
    },
    "tags": []
   },
   "outputs": [],
   "source": [
    "def make_predictions(X, W1, b1, W2, b2): #function to get our final predictions\n",
    "    _, _, _, A2 = forward_prop(W1, b1, W2, b2, X)\n",
    "    predictions = get_predictions(A2)\n",
    "    return predictions\n",
    "\n",
    "def test_prediction(index, W1, b1, W2, b2): #function to test our function over various testcases\n",
    "    current_image = X_train[:, index, None]\n",
    "    prediction = make_predictions(X_train[:, index, None], W1, b1, W2, b2)\n",
    "    label = Y_train[index]\n",
    "    print(\"Prediction: \", prediction)\n",
    "    print(\"Label: \", label)\n",
    "    \n",
    "    current_image = current_image.reshape((28, 28)) * 255\n",
    "    plt.gray()\n",
    "    plt.imshow(current_image, interpolation='nearest')\n",
    "    plt.show()"
   ]
  },
  {
   "cell_type": "markdown",
   "id": "fd101a23",
   "metadata": {
    "papermill": {
     "duration": 0.00976,
     "end_time": "2024-03-09T18:02:00.468294",
     "exception": false,
     "start_time": "2024-03-09T18:02:00.458534",
     "status": "completed"
    },
    "tags": []
   },
   "source": [
    "Few Example test cases"
   ]
  },
  {
   "cell_type": "code",
   "execution_count": 9,
   "id": "10dc6fdc",
   "metadata": {
    "execution": {
     "iopub.execute_input": "2024-03-09T18:02:00.487717Z",
     "iopub.status.busy": "2024-03-09T18:02:00.487346Z",
     "iopub.status.idle": "2024-03-09T18:02:01.195110Z",
     "shell.execute_reply": "2024-03-09T18:02:01.194098Z"
    },
    "papermill": {
     "duration": 0.719804,
     "end_time": "2024-03-09T18:02:01.197221",
     "exception": false,
     "start_time": "2024-03-09T18:02:00.477417",
     "status": "completed"
    },
    "tags": []
   },
   "outputs": [
    {
     "name": "stdout",
     "output_type": "stream",
     "text": [
      "Prediction:  [7]\n",
      "Label:  7\n"
     ]
    },
    {
     "data": {
      "image/png": "[encoded data removed]",
      "text/plain": [
       "<Figure size 640x480 with 1 Axes>"
      ]
     },
     "metadata": {},
     "output_type": "display_data"
    },
    {
     "name": "stdout",
     "output_type": "stream",
     "text": [
      "Prediction:  [7]\n",
      "Label:  7\n"
     ]
    },
    {
     "data": {
      "image/png": "[encoded data removed]",
      "text/plain": [
       "<Figure size 640x480 with 1 Axes>"
      ]
     },
     "metadata": {},
     "output_type": "display_data"
    },
    {
     "name": "stdout",
     "output_type": "stream",
     "text": [
      "Prediction:  [4]\n",
      "Label:  4\n"
     ]
    },
    {
     "data": {
      "image/png": "[encoded data removed]",
      "text/plain": [
       "<Figure size 640x480 with 1 Axes>"
      ]
     },
     "metadata": {},
     "output_type": "display_data"
    },
    {
     "name": "stdout",
     "output_type": "stream",
     "text": [
      "Prediction:  [9]\n",
      "Label:  4\n"
     ]
    },
    {
     "data": {
      "image/png": "[encoded data removed]",
      "text/plain": [
       "<Figure size 640x480 with 1 Axes>"
      ]
     },
     "metadata": {},
     "output_type": "display_data"
    }
   ],
   "source": [
    "test_prediction(0, W1, b1, W2, b2)\n",
    "test_prediction(15, W1, b1, W2, b2)\n",
    "test_prediction(21, W1, b1, W2, b2)\n",
    "test_prediction(34, W1, b1, W2, b2)"
   ]
  },
  {
   "cell_type": "markdown",
   "id": "d739327b",
   "metadata": {
    "papermill": {
     "duration": 0.007949,
     "end_time": "2024-03-09T18:02:01.214681",
     "exception": false,
     "start_time": "2024-03-09T18:02:01.206732",
     "status": "completed"
    },
    "tags": []
   },
   "source": [
    "Testing our accuracy with the test set"
   ]
  },
  {
   "cell_type": "code",
   "execution_count": 10,
   "id": "850536ab",
   "metadata": {
    "execution": {
     "iopub.execute_input": "2024-03-09T18:02:01.233032Z",
     "iopub.status.busy": "2024-03-09T18:02:01.232651Z",
     "iopub.status.idle": "2024-03-09T18:02:01.245579Z",
     "shell.execute_reply": "2024-03-09T18:02:01.244889Z"
    },
    "papermill": {
     "duration": 0.02537,
     "end_time": "2024-03-09T18:02:01.247956",
     "exception": false,
     "start_time": "2024-03-09T18:02:01.222586",
     "status": "completed"
    },
    "tags": []
   },
   "outputs": [
    {
     "name": "stdout",
     "output_type": "stream",
     "text": [
      "[2 7 4 3 8 9 4 5 3 5 7 9 3 6 1 3 8 7 6 1 3 9 9 1 2 2 8 7 7 2 4 8 4 7 2 4 1\n",
      " 0 8 8 0 0 3 3 6 8 1 3 9 1 1 5 4 6 5 5 1 3 9 4 7 8 4 7 5 1 0 7 5 2 5 9 9 1\n",
      " 7 0 5 6 7 6 6 3 9 7 8 6 0 0 8 8 0 3 3 5 3 3 1 6 9 6 6 3 6 8 2 7 8 4 0 5 9\n",
      " 4 3 4 6 2 7 4 7 4 9 4 9 2 0 0 1 8 4 4 6 8 1 7 5 3 9 3 5 6 7 0 1 2 5 4 5 4\n",
      " 2 0 8 0 6 6 6 9 6 2 7 0 1 9 8 9 1 8 1 9 7 0 2 0 0 0 1 6 1 6 5 6 0 0 1 8 7\n",
      " 4 5 7 0 8 5 3 8 8 4 7 7 3 1 8 2 7 6 0 1 7 0 4 1 7 3 8 7 9 2 7 2 4 6 2 0 5\n",
      " 2 7 5 1 7 2 7 3 7 4 5 6 5 9 7 4 6 7 1 4 8 3 2 0 6 3 9 9 6 0 1 2 2 2 1 3 9\n",
      " 9 7 4 1 0 9 1 6 2 0 6 6 9 4 1 5 6 3 4 2 8 4 9 0 7 9 5 6 6 2 9 4 9 6 9 4 4\n",
      " 1 9 0 2 9 9 9 7 0 1 0 3 9 2 1 1 1 9 6 0 2 9 7 5 3 7 6 0 4 4 1 1 3 7 5 9 6\n",
      " 9 8 3 6 7 4 2 7 1 9 4 0 1 4 0 2 3 4 9 6 1 3 1 2 0 5 5 8 7 0 1 4 1 9 3 6 1\n",
      " 8 9 5 5 9 0 4 2 5 1 0 1 6 3 2 2 6 6 6 1 9 9 8 3 2 6 5 0 6 6 9 5 5 1 1 9 1\n",
      " 2 9 8 4 1 3 3 0 7 9 3 9 5 3 3 5 5 6 0 3 7 5 0 2 4 0 0 1 8 4 8 7 0 4 2 4 3\n",
      " 9 1 8 7 9 4 0 1 0 7 8 5 9 0 1 0 5 7 4 2 5 6 6 3 6 0 6 4 0 1 5 1 4 9 0 3 6\n",
      " 3 7 9 5 5 4 9 6 2 2 5 8 3 5 9 3 4 6 1 7 0 7 0 0 9 4 4 4 3 1 5 3 9 2 5 6 9\n",
      " 8 5 8 6 9 1 5 0 1 2 9 0 9 6 0 1 7 7 3 7 3 0 4 2 2 4 1 6 0 8 7 1 0 1 6 2 5\n",
      " 8 5 4 4 4 0 3 7 3 8 1 6 7 1 3 7 0 2 6 0 0 1 9 7 1 6 0 8 4 6 8 0 7 3 4 3 8\n",
      " 0 6 1 0 4 4 3 7 3 4 8 4 6 4 1 5 6 8 7 9 0 1 2 7 2 2 4 1 9 4 4 8 0 0 0 7 1\n",
      " 2 2 3 4 7 0 1 3 5 6 1 0 8 1 9 0 0 2 6 8 3 7 6 5 6 1 9 0 7 7 5 8 3 3 4 5 5\n",
      " 4 5 0 0 9 5 3 6 4 3 2 5 0 8 6 2 4 3 2 2 0 7 3 7 5 1 7 3 8 3 2 9 6 2 3 3 1\n",
      " 5 3 9 2 2 1 9 5 2 5 3 2 8 1 9 7 9 8 7 5 3 1 1 0 7 5 5 9 7 4 9 3 9 7 3 3 3\n",
      " 1 4 8 7 6 1 3 5 6 7 3 3 8 4 6 5 2 7 4 3 5 8 0 2 0 3 2 3 2 1 3 5 7 4 4 5 5\n",
      " 8 7 9 6 2 8 1 7 0 0 7 6 1 4 3 0 9 7 5 7 5 1 4 8 8 3 9 8 0 6 7 7 2 0 1 6 3\n",
      " 1 4 3 7 4 9 8 4 5 5 2 7 0 1 9 0 1 2 2 4 3 3 9 7 7 9 7 8 7 4 0 3 7 7 7 7 4\n",
      " 7 9 7 7 6 3 1 0 8 2 0 6 8 8 8 2 8 7 5 6 8 7 8 8 5 7 7 8 2 3 7 9 4 6 0 0 0\n",
      " 3 2 0 0 6 1 3 7 2 9 9 4 4 8 6 8 6 1 3 4 5 2 8 7 7 8 5 6 1 7 3 5 0 7 9 1 6\n",
      " 2 0 2 8 4 6 6 8 9 9 9 3 0 3 1 5 9 8 3 7 3 7 5 5 9 6 9 4 3 7 9 4 7 4 7 8 1\n",
      " 0 0 3 7 5 2 8 9 3 1 8 5 1 4 9 6 2 9 6 1 7 0 5 9 6 2 6 2 1 4 8 2 6 4 6 4 1\n",
      " 8] [1 7 4 3 8 9 4 5 3 5 7 9 3 6 7 3 8 7 6 1 3 7 9 1 2 2 8 7 7 8 7 8 4 7 2 4 1\n",
      " 0 8 8 0 0 3 3 6 8 1 8 8 1 1 5 4 6 5 8 1 3 9 4 7 8 9 7 5 1 0 7 5 6 8 9 9 1\n",
      " 7 6 5 6 7 6 6 3 9 7 1 6 0 0 8 8 0 3 3 5 3 3 1 6 9 4 6 3 4 8 2 2 8 4 0 3 9\n",
      " 4 3 4 6 2 7 4 7 4 9 4 9 2 0 0 1 8 4 4 6 2 1 7 5 5 9 3 8 6 7 0 1 2 3 4 5 4\n",
      " 2 0 8 0 5 6 6 9 5 2 7 0 1 9 1 9 1 8 1 9 7 0 2 0 0 0 1 6 1 6 5 5 0 0 1 8 7\n",
      " 4 5 7 0 8 5 3 2 8 7 7 7 5 1 8 2 7 6 0 1 7 0 4 1 7 2 8 7 9 2 7 2 4 6 2 0 8\n",
      " 3 7 8 1 7 2 7 3 7 4 5 6 8 9 7 4 6 7 1 4 8 3 2 0 6 3 9 9 6 0 1 2 2 2 1 3 9\n",
      " 9 2 4 1 0 9 1 6 0 0 6 6 9 4 1 5 6 3 4 2 8 9 9 0 7 9 3 8 6 2 9 4 9 6 9 9 4\n",
      " 1 9 0 2 9 9 9 7 0 1 0 3 9 2 1 1 1 9 6 0 2 9 7 5 3 7 6 0 4 4 1 1 3 7 5 9 6\n",
      " 9 8 3 6 7 4 2 7 1 9 4 0 1 4 0 2 3 4 4 6 1 3 1 2 0 5 2 8 7 2 1 4 1 9 3 6 1\n",
      " 8 9 8 8 7 0 4 6 5 3 0 1 6 3 2 2 6 0 6 8 9 8 8 3 7 6 5 0 6 4 9 5 3 1 1 9 1\n",
      " 8 9 8 4 1 3 3 0 7 9 3 9 5 2 3 8 5 6 0 3 7 5 0 2 4 0 0 1 8 4 8 7 0 4 2 4 3\n",
      " 9 1 8 7 9 4 7 1 6 7 0 5 9 0 1 0 6 7 4 2 5 6 6 3 6 0 6 4 0 1 8 1 4 9 0 9 5\n",
      " 8 7 9 5 3 9 9 6 2 2 5 8 3 5 9 3 4 6 1 7 0 7 0 0 9 7 4 4 9 1 5 3 3 2 2 6 9\n",
      " 8 6 8 6 9 1 5 0 1 2 3 0 4 6 0 1 7 7 3 7 3 0 2 2 2 5 1 6 0 9 7 1 0 1 6 8 5\n",
      " 8 9 4 4 4 0 3 7 3 8 1 6 7 1 3 7 8 2 6 0 0 1 8 7 1 6 0 8 4 6 8 0 7 3 4 3 8\n",
      " 0 5 6 0 4 4 5 7 3 4 9 4 6 4 1 8 6 8 7 9 0 1 2 7 5 2 4 1 9 9 4 8 0 0 0 7 1\n",
      " 2 2 3 9 7 0 1 3 5 6 1 0 8 1 9 0 0 4 6 3 3 7 6 5 6 1 9 0 7 9 3 8 3 3 4 5 9\n",
      " 4 5 0 0 9 8 3 6 4 3 2 5 0 8 6 2 4 3 2 2 0 7 3 7 5 1 7 9 8 3 8 4 6 2 5 3 1\n",
      " 5 3 9 2 2 1 9 5 2 5 3 2 8 1 9 7 9 8 7 0 3 1 1 0 7 5 5 9 7 4 9 3 9 7 3 3 3\n",
      " 4 4 8 7 6 1 9 5 2 7 3 2 8 9 6 5 2 9 4 5 3 8 0 2 0 3 2 3 2 1 3 5 7 4 4 3 5\n",
      " 8 7 9 6 2 8 1 7 0 0 7 6 1 4 3 0 9 7 5 7 5 2 4 5 8 3 9 8 0 2 7 5 2 0 1 6 3\n",
      " 1 4 2 7 4 9 8 4 5 5 2 7 0 1 9 0 1 2 5 2 3 3 9 7 7 7 7 8 7 4 0 3 7 7 7 7 4\n",
      " 7 9 7 7 6 3 1 0 8 2 0 6 8 8 8 2 8 5 5 6 8 7 8 8 5 7 7 5 2 3 7 9 4 6 0 0 0\n",
      " 3 2 0 0 6 1 3 7 2 9 9 7 4 8 6 8 6 1 8 4 8 2 3 7 7 8 5 6 1 7 3 3 0 7 9 1 6\n",
      " 2 0 2 8 9 6 6 5 9 9 9 3 0 8 1 5 9 8 3 7 3 7 5 3 9 6 9 4 3 7 9 4 7 4 7 8 1\n",
      " 0 0 5 7 5 2 8 9 3 1 8 5 1 4 9 5 2 9 5 1 7 0 3 9 6 2 6 2 1 4 8 2 6 4 6 4 9\n",
      " 8]\n",
      "Accuracy : 0.868\n"
     ]
    }
   ],
   "source": [
    "dev_predictions = make_predictions(X_dev, W1, b1, W2, b2)\n",
    "print(\"Accuracy :\",get_accuracy(dev_predictions, Y_dev))"
   ]
  }
 ],
 "metadata": {
  "kaggle": {
   "accelerator": "none",
   "dataSources": [
    {
     "databundleVersionId": 861823,
     "sourceId": 3004,
     "sourceType": "competition"
    }
   ],
   "dockerImageVersionId": 30635,
   "isGpuEnabled": false,
   "isInternetEnabled": true,
   "language": "python",
   "sourceType": "notebook"
  },
  "kernelspec": {
   "display_name": "Python 3",
   "language": "python",
   "name": "python3"
  },
  "language_info": {
   "codemirror_mode": {
    "name": "ipython",
    "version": 3
   },
   "file_extension": ".py",
   "mimetype": "text/x-python",
   "name": "python",
   "nbconvert_exporter": "python",
   "pygments_lexer": "ipython3",
   "version": "3.10.12"
  },
  "papermill": {
   "default_parameters": {},
   "duration": 65.709314,
   "end_time": "2024-03-09T18:02:01.780198",
   "environment_variables": {},
   "exception": null,
   "input_path": "__notebook__.ipynb",
   "output_path": "__notebook__.ipynb",
   "parameters": {},
   "start_time": "2024-03-09T18:00:56.070884",
   "version": "2.4.0"
  }
 },
 "nbformat": 4,
 "nbformat_minor": 5
}
